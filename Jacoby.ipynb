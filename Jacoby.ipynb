{
 "cells": [
  {
   "cell_type": "code",
   "execution_count": 1,
   "metadata": {},
   "outputs": [],
   "source": [
    "import numpy as np"
   ]
  },
  {
   "cell_type": "code",
   "execution_count": 70,
   "metadata": {},
   "outputs": [
    {
     "name": "stdout",
     "output_type": "stream",
     "text": [
      "Digite um chute para x1 = 0\n",
      "Digite um chute para x2 = 0\n",
      "Digite um chute para x3 = 0\n",
      "Digite um chute para x4 = 0\n",
      "Digite um chute para x5 = 0\n",
      "Digite um chute para x6 = 0\n",
      "Digite o erro = 0.00001\n",
      "[[0.38314352]\n",
      " [0.49026873]\n",
      " [0.40868549]\n",
      " [0.04231408]\n",
      " [0.16926338]\n",
      " [0.14448402]]\n",
      "A temperatura de u1 é 0.3831435192078061\n",
      "A temperatura de u2 é 0.4902687328540196\n",
      "A temperatura de u3 é 0.4086854937086173\n",
      "A temperatura de u4 é 0.04231407633051276\n",
      "A temperatura de u5 é 0.1692633832062711\n",
      "A temperatura de u6 é 0.14448401553818258\n"
     ]
    }
   ],
   "source": [
    "x1 = float(input('Digite um chute para x1 = '))\n",
    "x2 = float(input('Digite um chute para x2 = '))\n",
    "x3 = float(input('Digite um chute para x3 = '))\n",
    "x4 = float(input('Digite um chute para x4 = '))\n",
    "x5 = float(input('Digite um chute para x5 = '))\n",
    "x6 = float(input('Digite um chute para x6 = '))\n",
    "er  = float(input('Digite o erro = '))\n",
    "a = np.array([[-4,1,0,1,0,0], [1,-4,1,0,1,0], [0,1,-4,0,0,1], [0,0,0,-4,1,0], [0,1,0,1,-4,1], [0,0,1,0,1,-4]])\n",
    "l = np.array([[0,0,0,0,0,0], [1,0,0,0,0,0],[0,1,0,0,0,0],[0,0,0,0,0,0],[0,1,0,1,0,0],[0,0,1,0,1,0]]) #Matriz Triangular Inferior\n",
    "d = np.array([[-4,0,0,0,0,0], [0,-4,0,0,0,0], [0,0,-4,0,0,0],[0,0,0,-4,0,0],[0,0,0,0,-4,0],[0,0,0,0,0,-4]]) #Matriz Diagonal\n",
    "r = np.array([[0,1,0,1,0,0], [0,0,1,0,1,0], [0,0,0,0,0,1],[0,0,0,0,1,0],[0,0,0,0,0,1],[0,0,0,0,0,0]]) #Matriz Triangular Superior\n",
    "b = np.array([[-1],[-1],[-1],[0],[0],[0]])\n",
    "x = np.array([[x1],[x2],[x3],[x4],[x5],[x6]])\n",
    "while True:\n",
    "    d_1 = np.linalg.inv(d)\n",
    "    h = l+r\n",
    "    \n",
    "    xn = -(np.mat(d_1)*np.mat(h))*np.mat(x)+np.mat(d_1)*np.mat(b)\n",
    "    dif = xn - x\n",
    "    ind = np.unravel_index(np.argmax(dif), dif.shape)\n",
    "    erro = dif[ind]\n",
    "    if erro < er:\n",
    "        break\n",
    "    if erro > er:\n",
    "        x = xn\n",
    "print(f'A temperatura de u1 é {xn[0,0]}')\n",
    "print(f'A temperatura de u2 é {xn[1,0]}')\n",
    "print(f'A temperatura de u3 é {xn[2,0]}')\n",
    "print(f'A temperatura de u4 é {xn[3,0]}')\n",
    "print(f'A temperatura de u5 é {xn[4,0]}')\n",
    "print(f'A temperatura de u6 é {xn[5,0]}')"
   ]
  },
  {
   "cell_type": "code",
   "execution_count": null,
   "metadata": {},
   "outputs": [],
   "source": []
  }
 ],
 "metadata": {
  "kernelspec": {
   "display_name": "Python 3",
   "language": "python",
   "name": "python3"
  },
  "language_info": {
   "codemirror_mode": {
    "name": "ipython",
    "version": 3
   },
   "file_extension": ".py",
   "mimetype": "text/x-python",
   "name": "python",
   "nbconvert_exporter": "python",
   "pygments_lexer": "ipython3",
   "version": "3.6.4"
  }
 },
 "nbformat": 4,
 "nbformat_minor": 2
}
